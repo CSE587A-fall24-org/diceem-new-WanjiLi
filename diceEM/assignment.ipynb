{
 "cells": [
  {
   "cell_type": "markdown",
   "metadata": {},
   "source": [
    "# Introduction\n",
    "\n",
    "This is a continuation of the `dice_sample` and `dice_posterior` assignments.\n",
    "In these assignments, we have a bag containing two types of dice with different\n",
    "probabilities of rolling each number (also referred to as a \"face\" of the die).\n",
    "Someone selects a die from the bag at random, rolls it a fixed number of times,\n",
    "reports the outcomes, returns it to the bag, and repeats the process. We refer\n",
    "each selection of a new die as a \"draw\". Here, you will write code to run the EM\n",
    "(Expectation Maximization) algorithm to estimate the parameters of the system --\n",
    "the probability of drawing each die type and the conditional probability of each\n",
    "face given the die type.\n",
    "\n",
    "This notebook provides a brief overview of the assignment but you'll have to\n",
    "read the code for detailed instructions.  \n",
    "\n",
    "All of the graded tests are written such that only two dice are in the bag.\n",
    "Feel free write the code such that it only functions on two dice or to write \n",
    "more general code which can operate on bags of any composition."
   ]
  },
  {
   "cell_type": "markdown",
   "metadata": {},
   "source": [
    "## Die and BagOfDice classes\n",
    "For this assignment, you will use our implementation of these two classes. These \n",
    "lines at the top of the assignment file make those two classes availble from our \n",
    "cse587Autils package:\n",
    "```python\n",
    "from cse587Autils.DiceObjects.Die import Die\n",
    "from cse587Autils.DiceObjects.BagOfDice import BagOfDice\n",
    "```\n",
    "These are more full featured implementations than the code we provided with\n",
    "the `dice-posterior` assignment.\n"
   ]
  },
  {
   "cell_type": "markdown",
   "metadata": {},
   "source": [
    "### Die class\n",
    "Instantiate with a list of the probabilities of rolling each face on the die.\n",
    "The list can be of any length but the probabilities must sum to one.\n",
    "```python\n",
    "biased_die = Die(face_probs=[0.1, 0.2, 0.7])\n",
    "print(biased_die) # prints Die([0.1, 0.2, 0.7])\n",
    "```\n",
    "You can get the number of faces with the <len> function\n",
    "```python\n",
    "len(biased_die) # returns 3\n",
    "```\n",
    "Previously, we used `num_faces` for that. You can also index into the die object\n",
    "directly to get face probabilities:\n",
    "\n",
    "```python\n",
    "biased_die[1] # returns 0.2. Note zero-based indexing.\n",
    "```"
   ]
  },
  {
   "cell_type": "markdown",
   "metadata": {},
   "source": [
    "### BagOfDice class\n",
    "Instantiate with two arguments. The first a list of the probabilies of drawing\n",
    "each die type, which must sum to one. The second is a list of Die objects \n",
    "representing the unique die types in the bag (each type is listed only once)."
   ]
  },
  {
   "cell_type": "code",
   "execution_count": 8,
   "metadata": {},
   "outputs": [
    {
     "name": "stdout",
     "output_type": "stream",
     "text": [
      "BagOfDice(die_priors=[0.25, 0.75], dice=[Die([0.3333, 0.3333, 0.3333]), Die([0.1, 0.2, 0.7])])\n"
     ]
    }
   ],
   "source": [
    "from cse587Autils.DiceObjects.BagOfDice import BagOfDice, Die\n",
    "fair_die = Die([1/3]*3) # In python, this is equivalent to Die[1/3, 1/3, 1/3]\n",
    "biased_die = Die(face_probs=[0.1, 0.2, 0.7])\n",
    "\n",
    "bag = BagOfDice([0.25, 0.75],[fair_die, biased_die])\n",
    "print(bag)"
   ]
  },
  {
   "cell_type": "markdown",
   "metadata": {},
   "source": [
    "Indexing into the bag returns tuple of the corresponding die's probability of\n",
    "being drawn and the die object itself. You can also iterate through the dice."
   ]
  },
  {
   "cell_type": "code",
   "execution_count": 12,
   "metadata": {},
   "outputs": [
    {
     "name": "stdout",
     "output_type": "stream",
     "text": [
      "die prior: 0.25\n",
      "die object: Die([0.3333, 0.3333, 0.3333])\n",
      "die prior: 0.75\n",
      "die object: Die([0.1, 0.2, 0.7])\n"
     ]
    }
   ],
   "source": [
    "bag[1] # Returns (0.75, Die([0.1, 0.2, 0.7]))\n",
    "for prior_die_pair in bag:\n",
    "    die_prior, die = prior_die_pair\n",
    "    print(f'die prior: {die_prior}\\ndie object: {die}')"
   ]
  },
  {
   "cell_type": "markdown",
   "metadata": {},
   "source": [
    "BagOfDice supports the following operations:"
   ]
  },
  {
   "cell_type": "code",
   "execution_count": 3,
   "metadata": {},
   "outputs": [
    {
     "name": "stdout",
     "output_type": "stream",
     "text": [
      "len() returns the number of dice in the bag: 2\n",
      "accessing the die priors: [0.25, 0.75]\n",
      "accessing the Die objects: [Die([0.3333, 0.3333, 0.3333]), Die([0.1, 0.2, 0.7])]\n"
     ]
    }
   ],
   "source": [
    "# len() returns the number of dice in the bag\n",
    "print(f'len() returns the number of dice in the bag: {len(bag)}')\n",
    "\n",
    "# there are getters (and setters) for the die_priors and dice\n",
    "print(f'accessing the die priors: {bag.die_priors}')\n",
    "print(f'accessing the Die objects: {bag.dice}')"
   ]
  },
  {
   "cell_type": "markdown",
   "metadata": {},
   "source": [
    "We can use the BagOfDice to generate sample data. For example, to \n",
    "produce a sample by drawing a die, with replacement, from the bag 5 times \n",
    "and rolling each die drawn 20 times, we can use the draw() method. `draw()`\n",
    "returns a numpy array containg the number of times each face was rolled on a \n",
    "given draw. The array length is the maximum number of faces among all the dice \n",
    "in the bag. Faces that were not rolled (either by chance or because they don't \n",
    "exist on the die) are represented by 0."
   ]
  },
  {
   "cell_type": "code",
   "execution_count": 70,
   "metadata": {},
   "outputs": [
    {
     "name": "stdout",
     "output_type": "stream",
     "text": [
      "[array([3, 8, 9]), array([ 1,  8, 11]), array([ 1,  6, 13]), array([ 1,  4, 15]), array([ 8, 10,  2])]\n"
     ]
    }
   ],
   "source": [
    "sample_data = [bag.draw(20) for _ in range(5)]\n",
    "print(sample_data)"
   ]
  },
  {
   "cell_type": "markdown",
   "metadata": {},
   "source": [
    "In your EM implementation, you will use a BagOfDice object to store the current \n",
    "estimates of the parameters. On each call to `m_step` you will create a new bag\n",
    "with updated parameter estimations.\n",
    "\n",
    "Your EM algorithm must stop when it converges -- that is, when the change in \n",
    "parameter estimates from one iteration to the next becomes very small. To\n",
    "characterize the change in parameters, we will use the sum of the absolute values\n",
    "of the differences between between the parameters, include die priors and face\n",
    "probabilities. We have implemented this measure for you. To get it, simply use\n",
    "the subtraction operator on two BagOfDice objects, as shown below. This will \n",
    "compare the first die of one bag to the first die of the other, etc. The order\n",
    "of dice is assumed to be the same, but this is not a problem for EM iterations --\n",
    "your estimates for each die will always be in the same order."
   ]
  },
  {
   "cell_type": "code",
   "execution_count": 71,
   "metadata": {},
   "outputs": [
    {
     "name": "stdout",
     "output_type": "stream",
     "text": [
      "bag difference: 0.4\n"
     ]
    }
   ],
   "source": [
    "bag1 = BagOfDice([0.5, 0.5], \n",
    "                 [Die([0.9, 0.1, 0.0]), Die([0.1, 0.1, 0.8])])\n",
    "bag2 = BagOfDice([0.6, 0.4], \n",
    "                 [Die([0.9, 0.1, 0.0]), Die([0.1, 0.2, 0.7])])\n",
    "print(f'bag difference: {bag1 - bag2}')"
   ]
  },
  {
   "cell_type": "markdown",
   "metadata": {},
   "source": [
    "## Input and Output\n",
    "\n",
    "The top level function is called diceEM:\n",
    "\n",
    "```python\n",
    "def diceEM(experiment_data: List[NDArray[np.int_]],\n",
    "           bag_of_dice: BagOfDice,\n",
    "           accuracy: float,\n",
    "           max_iterations: int = int(1e4)) -> [int, BagOfDice]:\n",
    "```\n",
    "\n",
    "where,\n",
    "\n",
    "- `experiment_data`  is a list of draws, each of which gives the results of\n",
    "drawing a die from the bag and rolling it n times and then aggregating the\n",
    "number of times each face appears. It is a list of numpy arrays, where the number \n",
    "of arrays is equal to the number of `draws` that is performed, and the sum of\n",
    "each individual array is the total number of times the die was rolled on that\n",
    "draw.\n",
    "\n",
    "- `max_iterations` similarly sets a threshold at the number of iterations the EM\n",
    "algorithm can run -- it is a good idea to set this to avoid endless, or\n",
    "needlessly long, loops. But, you may need to adjust this value depending on the\n",
    "accuracy. Default is 10000.\n",
    "\n",
    "The number of faces, trials per draw, etc., can all be calculated from the input\n",
    "data and so will not be provided. \n",
    "\n",
    "`diceEM()` implements the outer loop of the EM algorithm. It calls `e_step()`\n",
    "and `m_step()` on each iteration and updates its estimate of the parameters\n",
    "which generated the `experiment_data`. This updated estimate is used in the\n",
    "sebsequent iteration, and so on until the stop conditions are met.\n",
    "\n",
    "The return value of `diceEM()` is the final estimate of the parameters in the \n",
    "form of a `BagOfDice` object.\n",
    "\n",
    "Your `e_step()` code needs to calculate posteriors. You are welcome to use your \n",
    "dice_posterior code. If you did *not* have functioning `dice_posterior()` code, \n",
    "or you question its accuracy after pasting it in to this assignment, the TAs can\n",
    "provide correct dice_posterior code to you.\n",
    "\n",
    "Outlines of the code are provided in the file [assignment.py](assignment.py).\n",
    "Read the comments, too. You need to fill in key parts of the algorithms. Feel \n",
    "free to paste your dice_posterior code in.  \n",
    "\n",
    "**Important**: your code will be graded against the\n",
    "[test_assignment.py](test_assignment.py) code exactly as it is when you received\n",
    "this assignment. You are welcome to change it in your project, but those changes\n",
    "will *not* be reflected when your code is graded. So, we suggest you *do not*\n",
    "change the tests. Otherwise, you will potentially be surprised if your code\n",
    "fails during the automated grading."
   ]
  },
  {
   "cell_type": "markdown",
   "metadata": {},
   "source": [
    "## EM Initialization Tips\n",
    "\n",
    "To initialize the parameter estimates, do not make all the possibilities\n",
    "equally likely. If you do, the algorithm may get stuck and take longer to\n",
    "converge. However, do not make them\n",
    "too far from equally likely, either, to avoid strongly biasing the final result\n",
    "by the initial values. Since there are only two die types, I suggest\n",
    "initializing their probabilities to 0.45 and 0.55. For the probabilities of the\n",
    "faces of each die, I took a random real between 1/n and 2/n, where n is the\n",
    "number of faces. Then I normalized them so they would all add up to one using the call\n",
    "\n",
    "```\n",
    "list_of_numbers / sum(list_of_numbers)\n",
    "```"
   ]
  },
  {
   "cell_type": "markdown",
   "metadata": {},
   "source": [
    "## Experiments and questions\n",
    "\n",
    "### Number of iterations needed for convergence"
   ]
  },
  {
   "cell_type": "markdown",
   "metadata": {},
   "source": [
    "Given a very large dataset, how many iterations does it take to converge to within the required accuracy of 10^-4? How does that change if you tighten the convergence criterion to 10^-6? How about 10^-8. Please make a comment on the general pattern you observe."
   ]
  },
  {
   "cell_type": "code",
   "execution_count": 77,
   "metadata": {},
   "outputs": [
    {
     "data": {
      "text/plain": [
       "(12,\n",
       " BagOfDice(die_priors=[0.40900946601771687, 0.5909905339822831], dice=[Die([0.2964, 0.1988, 0.202, 0.3028]), Die([0.0, 0.1994, 0.1987, 0.6019])]))"
      ]
     },
     "execution_count": 77,
     "metadata": {},
     "output_type": "execute_result"
    }
   ],
   "source": [
    "from importlib import reload\n",
    "import diceEM.assignment as assign\n",
    "reload(assign) # This ensures code is reloaded each time\n",
    "from diceEM.assignment import diceEM, generate_sample\n",
    "\n",
    "experiment_result = generate_sample([4,6], \n",
    "                                    [[0.3, 0.2, 0.2, 0.3], \n",
    "                                     [0, 0.2, 0.2, 0.6]], \n",
    "                                     4000, \n",
    "                                     30)\n",
    "\n",
    "init_bag = BagOfDice([0.75, 0.25], \n",
    "                     [Die([0.1, 0.3, 0.5, 0.1]), \n",
    "                      Die([0.1, 0.3, 0.4, 0.2])])\n",
    "diceEM(experiment_result, init_bag, 10e-8, 100)"
   ]
  },
  {
   "cell_type": "markdown",
   "metadata": {},
   "source": [
    "Answer: It takes 6 iterations to converge to within the accuracy of 10^-4 for this large dataset. As for a accuracy of 10^-6 and 10^-8, it takes 9 and 12 iterations to converge, respectively. Thus, the number of iterations to converge is increasing as accuracy is tightened. This is expected because more iterations are required for a more stringent convergence. Also, it seems that the iterations required doesn't dramatically increase upon tightening the accuracy by 2 or 4 orders of magnitude, which means that the algorithm is quite efficient in converging to the local optimum."
   ]
  },
  {
   "cell_type": "markdown",
   "metadata": {},
   "source": [
    "How much effect does tightening the accuracy requirement by 2 or 4 orders of magnitude have on how well the algorithm identifies the correct parameters?"
   ]
  },
  {
   "cell_type": "markdown",
   "metadata": {},
   "source": [
    "Answer:\n",
    "\n",
    "When accuracy = 10^-4, BagOfDice(die_priors=[0.40896643154383977, 0.5910335684561603], dice=[Die([0.2964, 0.1988, 0.202, 0.3028]), Die([0.0, 0.1994, 0.1987, 0.6018])])\n",
    "\n",
    "When accuracy = 10^-6, BagOfDice(die_priors=[0.4090090197676536, 0.5909909802323464], dice=[Die([0.2964, 0.1988, 0.202, 0.3028]), Die([0.0, 0.1994, 0.1987, 0.6019])])\n",
    "\n",
    "When accuracy = 10^-8, BagOfDice(die_priors=[0.40900946601771687, 0.5909905339822831], dice=[Die([0.2964, 0.1988, 0.202, 0.3028]), Die([0.0, 0.1994, 0.1987, 0.6019])])\n",
    "\n",
    "Thus, tightening the accuracy requirements by 2 or 4 orders of magnitude doesn't have a significant effect on finding the correct parameters because all the resulting parameters shown above are almost the same. Also, all the converged parameters are close to the true value used in sample generation."
   ]
  },
  {
   "cell_type": "markdown",
   "metadata": {},
   "source": [
    "Now let's change the parameters of the sample generated as shown below. \n",
    "\n",
    "How does this affect the number of iterations required to make the accuracy goal? Why do you think that is?"
   ]
  },
  {
   "cell_type": "code",
   "execution_count": 78,
   "metadata": {},
   "outputs": [
    {
     "data": {
      "text/plain": [
       "(9,\n",
       " BagOfDice(die_priors=[0.40416219790208086, 0.5958378020979191], dice=[Die([0.2973, 0.1988, 0.304, 0.2]), Die([0.1004, 0.1993, 0.1998, 0.5005])]))"
      ]
     },
     "execution_count": 78,
     "metadata": {},
     "output_type": "execute_result"
    }
   ],
   "source": [
    "from importlib import reload\n",
    "import diceEM.assignment as assign\n",
    "reload(assign) # This ensures code is reloaded each time\n",
    "from diceEM.assignment import diceEM, generate_sample\n",
    "\n",
    "experiment_result = generate_sample([4, 6], [[0.3, 0.2, 0.3, 0.2], \n",
    "                                             [0.1, 0.2, 0.2, 0.5]], \n",
    "                                             4000, \n",
    "                                             30)\n",
    "\n",
    "init_bag = BagOfDice([0.75, 0.25], [Die([0.1, 0.3, 0.5, 0.1]), \n",
    "                                    Die([0.1, 0.3, 0.4, 0.2])])\n",
    "\n",
    "diceEM(experiment_result, init_bag, 10e-4, 100)"
   ]
  },
  {
   "cell_type": "markdown",
   "metadata": {},
   "source": [
    "Answer:\n",
    "\n",
    "It takes 9 iterations to converge, which is larger than the previous case (6 iterations). The original distribution for the second die had a clear distinction with a 0 probability for the first outcome (i.e., no chance of rolling a 1). In the changed code, this probability is now 0.1, which could increase the overlap between the two dice's outcome distributions. When the outcome probabilities for the two dice become more similar, it becomes harder for the EM algorithm to distinguish between the dice, requiring more iterations to accurately estimate the parameters."
   ]
  },
  {
   "cell_type": "markdown",
   "metadata": {},
   "source": [
    "### Sample size\n",
    "\n",
    "1. Consider the following experiment."
   ]
  },
  {
   "cell_type": "code",
   "execution_count": 79,
   "metadata": {},
   "outputs": [
    {
     "name": "stdout",
     "output_type": "stream",
     "text": [
      "BagOfDice(die_priors=[0.40254223047228116, 0.5974577695277188], dice=[Die([0.2986, 0.3027, 0.2015, 0.1972]), Die([0.1988, 0.1986, 0.2011, 0.4015])])\n"
     ]
    }
   ],
   "source": [
    "from importlib import reload\n",
    "import diceEM.assignment as assign\n",
    "reload(assign) # This ensures code is reloaded each time\n",
    "from diceEM.assignment import diceEM, generate_sample\n",
    "\n",
    "face_probs = [[0.3, 0.3, 0.2, 0.2],\n",
    "              [0.2, 0.2, 0.2, 0.4]]\n",
    "\n",
    "experiment_result = generate_sample([4, 6], face_probs, 6000, 30)\n",
    "init_bag = BagOfDice([0.75, 0.25], [Die([0.1, 0.3, 0.5, 0.1]), \n",
    "                                    Die([0.1, 0.3, 0.4, 0.2])])\n",
    "\n",
    "inference_result = diceEM(experiment_result, init_bag, 10e-4, 100)\n",
    "print(inference_result[1])"
   ]
  },
  {
   "cell_type": "markdown",
   "metadata": {},
   "source": [
    "- How many die rolls are in this sample? "
   ]
  },
  {
   "cell_type": "markdown",
   "metadata": {},
   "source": [
    "Answer: 30 per draw and 6000 draws give a total of 180000 rolls."
   ]
  },
  {
   "cell_type": "markdown",
   "metadata": {},
   "source": [
    "- Try reducing the number of draws/trials while keeping the number of rolls constant. How many draws do you need with 30 rolls each to get the right answer consistently, to within two decimal places? "
   ]
  },
  {
   "cell_type": "code",
   "execution_count": 98,
   "metadata": {},
   "outputs": [
    {
     "name": "stdout",
     "output_type": "stream",
     "text": [
      "(24, BagOfDice(die_priors=[0.3991593686092596, 0.6008406313907404], dice=[Die([0.3037, 0.2999, 0.1965, 0.1999]), Die([0.2017, 0.199, 0.202, 0.3973])]))\n",
      "(26, BagOfDice(die_priors=[0.39464281093822207, 0.6053571890617778], dice=[Die([0.2979, 0.2972, 0.202, 0.2029]), Die([0.2031, 0.1993, 0.2013, 0.3963])]))\n",
      "(24, BagOfDice(die_priors=[0.391495855955232, 0.608504144044768], dice=[Die([0.3102, 0.2973, 0.195, 0.1976]), Die([0.2027, 0.201, 0.2007, 0.3955])]))\n",
      "(24, BagOfDice(die_priors=[0.4052832364622341, 0.5947167635377659], dice=[Die([0.302, 0.2964, 0.1982, 0.2034]), Die([0.1972, 0.2009, 0.2006, 0.4013])]))\n",
      "(25, BagOfDice(die_priors=[0.39853011605977373, 0.6014698839402263], dice=[Die([0.3017, 0.2953, 0.1979, 0.2051]), Die([0.2015, 0.1998, 0.1974, 0.4013])]))\n",
      "(22, BagOfDice(die_priors=[0.3929973084138628, 0.6070026915861372], dice=[Die([0.2978, 0.2996, 0.2038, 0.1988]), Die([0.2002, 0.1949, 0.202, 0.4029])]))\n",
      "(24, BagOfDice(die_priors=[0.4078485551594918, 0.5921514448405082], dice=[Die([0.3023, 0.2992, 0.1989, 0.1996]), Die([0.203, 0.2003, 0.1988, 0.3979])]))\n",
      "(26, BagOfDice(die_priors=[0.4238740717051095, 0.5761259282948904], dice=[Die([0.3007, 0.2947, 0.1986, 0.2059]), Die([0.2011, 0.2005, 0.1987, 0.3997])]))\n",
      "(25, BagOfDice(die_priors=[0.41840471917472405, 0.581595280825276], dice=[Die([0.2985, 0.3018, 0.1964, 0.2033]), Die([0.2003, 0.1983, 0.2009, 0.4006])]))\n",
      "(22, BagOfDice(die_priors=[0.3930487785260438, 0.6069512214739563], dice=[Die([0.3046, 0.2972, 0.2017, 0.1966]), Die([0.1975, 0.2029, 0.1991, 0.4005])]))\n"
     ]
    }
   ],
   "source": [
    "for data_seed in range(10):\n",
    "    data = generate_sample([4, 6], face_probs, 2500, 30, seed=data_seed)\n",
    "    print(diceEM(data, init_bag, 10e-4, 100))"
   ]
  },
  {
   "cell_type": "markdown",
   "metadata": {},
   "source": [
    "Answer: 2500 draws are needed to give a fairly consistent result."
   ]
  },
  {
   "cell_type": "markdown",
   "metadata": {},
   "source": [
    "- If you don't have quite enough draws/trials, which parameters tend to be off?"
   ]
  },
  {
   "cell_type": "markdown",
   "metadata": {},
   "source": [
    "The priors were more off than the face probs."
   ]
  },
  {
   "cell_type": "markdown",
   "metadata": {},
   "source": [
    "- Now try changing the number of rolls per trial to 50. How many trials do you \n",
    "need to consistently get the right  answer consistently, to within two decimal places? "
   ]
  },
  {
   "cell_type": "code",
   "execution_count": 100,
   "metadata": {},
   "outputs": [
    {
     "name": "stdout",
     "output_type": "stream",
     "text": [
      "(14, BagOfDice(die_priors=[0.41272766282967543, 0.5872723371703246], dice=[Die([0.3058, 0.2967, 0.1973, 0.2002]), Die([0.1997, 0.1997, 0.2027, 0.3979])]))\n",
      "(14, BagOfDice(die_priors=[0.40383966674186716, 0.5961603332581329], dice=[Die([0.302, 0.2947, 0.2041, 0.1992]), Die([0.201, 0.1963, 0.2008, 0.4019])]))\n",
      "(14, BagOfDice(die_priors=[0.41361274061189907, 0.586387259388101], dice=[Die([0.3026, 0.2994, 0.1983, 0.1997]), Die([0.2009, 0.202, 0.1963, 0.4007])]))\n",
      "(14, BagOfDice(die_priors=[0.40463722975130817, 0.5953627702486918], dice=[Die([0.2973, 0.2982, 0.2, 0.2045]), Die([0.1987, 0.201, 0.1972, 0.4032])]))\n",
      "(14, BagOfDice(die_priors=[0.38340539284070085, 0.6165946071592993], dice=[Die([0.3003, 0.2985, 0.1955, 0.2057]), Die([0.2042, 0.1994, 0.1957, 0.4007])]))\n",
      "(13, BagOfDice(die_priors=[0.3767662494130569, 0.6232337505869431], dice=[Die([0.2981, 0.3019, 0.2004, 0.1996]), Die([0.2001, 0.1976, 0.2017, 0.4007])]))\n",
      "(15, BagOfDice(die_priors=[0.415919967444838, 0.5840800325551619], dice=[Die([0.2996, 0.3015, 0.1983, 0.2006]), Die([0.2015, 0.2011, 0.1985, 0.3989])]))\n",
      "(14, BagOfDice(die_priors=[0.4171268701755903, 0.5828731298244098], dice=[Die([0.3014, 0.2976, 0.1983, 0.2027]), Die([0.2014, 0.2009, 0.1971, 0.4006])]))\n",
      "(13, BagOfDice(die_priors=[0.39792255882129496, 0.6020774411787051], dice=[Die([0.3009, 0.304, 0.1987, 0.1964]), Die([0.2012, 0.1978, 0.2017, 0.3992])]))\n",
      "(13, BagOfDice(die_priors=[0.37997830977945013, 0.6200216902205499], dice=[Die([0.3038, 0.3019, 0.1975, 0.1969]), Die([0.1992, 0.2005, 0.1983, 0.402])]))\n"
     ]
    }
   ],
   "source": [
    "for data_seed in range(10):\n",
    "    data = generate_sample([4, 6], face_probs, 1500, 50, seed=data_seed)\n",
    "    print(diceEM(data, init_bag, 10e-4, 100))"
   ]
  },
  {
   "cell_type": "markdown",
   "metadata": {},
   "source": [
    "Answer: 1500 draws are needed."
   ]
  },
  {
   "cell_type": "markdown",
   "metadata": {},
   "source": [
    "- Does tightening the convergence criterion make the results substantially more accurate? "
   ]
  },
  {
   "cell_type": "code",
   "execution_count": 102,
   "metadata": {},
   "outputs": [
    {
     "name": "stdout",
     "output_type": "stream",
     "text": [
      "(30, BagOfDice(die_priors=[0.41310753273777107, 0.5868924672622289], dice=[Die([0.3058, 0.2966, 0.1973, 0.2003]), Die([0.1996, 0.1997, 0.2027, 0.398])]))\n",
      "(29, BagOfDice(die_priors=[0.4040641255591735, 0.5959358744408265], dice=[Die([0.302, 0.2947, 0.2041, 0.1992]), Die([0.201, 0.1963, 0.2008, 0.402])]))\n",
      "(29, BagOfDice(die_priors=[0.4138819862429429, 0.5861180137570571], dice=[Die([0.3026, 0.2993, 0.1983, 0.1997]), Die([0.2009, 0.202, 0.1963, 0.4007])]))\n",
      "(31, BagOfDice(die_priors=[0.4050538347108179, 0.594946165289182], dice=[Die([0.2973, 0.2982, 0.2, 0.2046]), Die([0.1986, 0.2009, 0.1972, 0.4032])]))\n",
      "(31, BagOfDice(die_priors=[0.38381966901293785, 0.6161803309870622], dice=[Die([0.3002, 0.2985, 0.1955, 0.2058]), Die([0.2041, 0.1994, 0.1957, 0.4008])]))\n",
      "(27, BagOfDice(die_priors=[0.3770510623276052, 0.6229489376723948], dice=[Die([0.2981, 0.3018, 0.2004, 0.1997]), Die([0.2001, 0.1975, 0.2017, 0.4007])]))\n",
      "(33, BagOfDice(die_priors=[0.4162875875022872, 0.5837124124977127], dice=[Die([0.2996, 0.3015, 0.1983, 0.2006]), Die([0.2015, 0.201, 0.1985, 0.399])]))\n",
      "(30, BagOfDice(die_priors=[0.41752103013138936, 0.5824789698686106], dice=[Die([0.3013, 0.2976, 0.1984, 0.2028]), Die([0.2014, 0.2009, 0.1971, 0.4007])]))\n",
      "(26, BagOfDice(die_priors=[0.3981418570942018, 0.6018581429057982], dice=[Die([0.3009, 0.304, 0.1987, 0.1964]), Die([0.2012, 0.1978, 0.2017, 0.3992])]))\n",
      "(28, BagOfDice(die_priors=[0.380321279544241, 0.619678720455759], dice=[Die([0.3038, 0.3018, 0.1975, 0.1969]), Die([0.1992, 0.2004, 0.1983, 0.402])]))\n"
     ]
    }
   ],
   "source": [
    "for data_seed in range(10):\n",
    "    data = generate_sample([4, 6], face_probs, 1500, 50, seed=data_seed)\n",
    "    print(diceEM(data, init_bag, 10e-8, 100))"
   ]
  },
  {
   "cell_type": "markdown",
   "metadata": {},
   "source": [
    "Answer: No, as shown above, changing the convergence criterion to 10^-8 didn't change the estimated parameters closer to the ground truth."
   ]
  },
  {
   "cell_type": "markdown",
   "metadata": {},
   "source": []
  }
 ],
 "metadata": {
  "kernelspec": {
   "display_name": ".venv",
   "language": "python",
   "name": "python3"
  },
  "language_info": {
   "codemirror_mode": {
    "name": "ipython",
    "version": 3
   },
   "file_extension": ".py",
   "mimetype": "text/x-python",
   "name": "python",
   "nbconvert_exporter": "python",
   "pygments_lexer": "ipython3",
   "version": "3.10.12"
  }
 },
 "nbformat": 4,
 "nbformat_minor": 2
}
